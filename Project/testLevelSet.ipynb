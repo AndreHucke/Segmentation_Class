{
 "cells": [
  {
   "cell_type": "markdown",
   "metadata": {},
   "source": [
    "% Class to perform level set segmentation<br>\n",
    "% gradientNB, curvatureNB, DuDt2 functions need to be added<br>\n",
    "% ECE 8396: Medical Image Segmentation<br>\n",
    "% Spring 2025<br>\n",
    "% Author: Prof. Jack Noble; jack.noble@vanderbilt.edu<br>\n",
    "% Modified by: Andre Hucke > Added testFastMarching function<br>\n",
    "% Parts of this code were created using AI. All code was reviewed and modified by the author."
   ]
  },
  {
   "cell_type": "code",
   "execution_count": 2,
   "metadata": {},
   "outputs": [],
   "source": [
    "# Configure matplotlib to display plots inline in the notebook\n",
    "import matplotlib.pyplot as plt\n",
    "%matplotlib inline\n",
    "\n",
    "import numpy as np\n",
    "import json"
   ]
  },
  {
   "cell_type": "code",
   "execution_count": 3,
   "metadata": {},
   "outputs": [],
   "source": [
    "import json\n",
    "from fastMarching import * # import your custom level set and fast marching solutions\n",
    "from Project2 import * # import your previously defined surface class\n",
    "from levelSet import * # import your level set class"
   ]
  },
  {
   "cell_type": "code",
   "execution_count": 4,
   "metadata": {},
   "outputs": [
    {
     "name": "stdout",
     "output_type": "stream",
     "text": [
      "/home/teixeia/Segmentation_Noble/Project\n"
     ]
    }
   ],
   "source": [
    "!pwd"
   ]
  },
  {
   "cell_type": "code",
   "execution_count": 5,
   "metadata": {},
   "outputs": [],
   "source": [
    "def testLevelSet():\n",
    "    f = open('../EECE_395/Project5.json','rt')\n",
    "    d = json.load(f)\n",
    "    f.close()\n",
    "    crp = np.array(d['headCT'])\n",
    "    voxsz = np.array(d['voxsz'])\n",
    "    fig, ax = plt.subplots(1,2)\n",
    "    plt.pause(0.1)\n",
    "    dmapi = np.ones(np.shape(crp))\n",
    "    # dmapi[2:-3,2:-3,2:-3]=-1\n",
    "    dmapi[0:60,0:60,0:-1]=-1 # had to change it from dmapi[2:-3,2:-3,2:-3]=-1 to try to get the whole image in. \n",
    "    ls = levelSet()\n",
    "    params = levelSetParams(maxiter=50, visrate=1, method='CV', reinitrate=5, mindist=7, convthrsh=1e-2, mu=0.5, dtt=np.linspace(3,0.1,50)) # Very tiny stepss to ensure stability. Lots of tunning to get this to work. Maybe next would be to implement a grid search to find the best parameters. Tried messing dtt, but it eventually worked best with the default values. Mostly changed mu.\n",
    "    dmap = ls.segment(crp, dmapi, params, ax)\n",
    "    # Show the plots explicitly\n",
    "    plt.tight_layout()\n",
    "    plt.show()\n",
    "    \n",
    "    # Continue with 3D visualization\n",
    "    win = myVtkWin()\n",
    "    s = surface(-dmap, 0, voxsz)\n",
    "    s.createSurfaceFromVolume()\n",
    "    win.addSurf(s.verts, s.faces)\n",
    "    win.start()"
   ]
  },
  {
   "cell_type": "code",
   "execution_count": 6,
   "metadata": {},
   "outputs": [],
   "source": [
    "def testFastMarching():\n",
    "    # Load data from the JSON file\n",
    "    f = open('../EECE_395/Project5.json','rt')\n",
    "    d = json.load(f)\n",
    "    f.close()\n",
    "\n",
    "    # Get test data and voxel size\n",
    "    test_dmap_init = np.array(d['test_dmap_init'])\n",
    "    voxsz = np.array(d['voxsz'])\n",
    "    \n",
    "    # Check dimensionality and fix if needed\n",
    "    if len(test_dmap_init.shape) == 2:\n",
    "        print(f\"Original shape: {test_dmap_init.shape}\")\n",
    "        # Expand to 3D by adding a third dimension\n",
    "        test_dmap_init = test_dmap_init[:, :, np.newaxis]\n",
    "        print(f\"Expanded shape: {test_dmap_init.shape}\")\n",
    "        \n",
    "        # Adjust voxel size if needed\n",
    "        if len(voxsz) == 2:\n",
    "            voxsz = np.append(voxsz, 1.0)\n",
    "            print(f\"Adjusted voxel size: {voxsz}\")\n",
    "\n",
    "    # Initialize Fast Marching with visualization\n",
    "    fm = fastMarching(plot=True)\n",
    "    \n",
    "    # Run the update function on the test data\n",
    "    fm.update(test_dmap_init, nbdist=np.inf, voxsz=voxsz)\n",
    "    \n",
    "    # Calculate the mean absolute error\n",
    "    result_dmap = fm.dmap\n",
    "    ground_truth = test_dmap_init\n",
    "    mean_abs_error = np.mean(np.abs(result_dmap - ground_truth))\n",
    "    \n",
    "    print(f\"Mean Absolute Error: {mean_abs_error}\")\n",
    "    \n",
    "    # Display results more simply - use the middle slice if 3D\n",
    "    plt.figure(figsize=(12, 6))\n",
    "    \n",
    "    if len(result_dmap.shape) == 3 and result_dmap.shape[2] > 1:\n",
    "        middle_slice = result_dmap.shape[2] // 2\n",
    "        plt.subplot(1, 2, 1)\n",
    "        plt.imshow(ground_truth[:, :, middle_slice], cmap='gray')\n",
    "        plt.title('Ground Truth')\n",
    "        \n",
    "        plt.subplot(1, 2, 2)\n",
    "        plt.imshow(result_dmap[:, :, middle_slice], cmap='gray')\n",
    "        plt.title('Fast Marching Result')\n",
    "    else:\n",
    "        plt.subplot(1, 2, 1)\n",
    "        plt.imshow(ground_truth[:, :, 0], cmap='gray')\n",
    "        plt.title('Ground Truth')\n",
    "        \n",
    "        plt.subplot(1, 2, 2)\n",
    "        plt.imshow(result_dmap[:, :, 0], cmap='gray')\n",
    "        plt.title('Fast Marching Result')\n",
    "    \n",
    "    plt.tight_layout()\n",
    "    plt.show()"
   ]
  },
  {
   "cell_type": "code",
   "execution_count": 7,
   "metadata": {},
   "outputs": [
    {
     "name": "stdout",
     "output_type": "stream",
     "text": [
      "Original shape: (35, 25)\n",
      "Expanded shape: (35, 25, 1)\n",
      "Mean Absolute Error: 0.9411919262777584\n",
      "Mean Absolute Error: 0.9411919262777584\n"
     ]
    }
   ],
   "source": [
    "if __name__ == \"__main__\":\n",
    "    # Uncomment one of the lines below to run the desired test\n",
    "    testFastMarching()\n",
    "    testLevelSet()"
   ]
  },
  {
   "cell_type": "code",
   "execution_count": null,
   "metadata": {},
   "outputs": [
    {
     "name": "stdout",
     "output_type": "stream",
     "text": [
      "Original shape: (35, 25)\n",
      "Expanded shape: (35, 25, 1)\n",
      "Mean Absolute Error: 0.9411919262777584\n",
      "Mean Absolute Error: 0.9411919262777584\n"
     ]
    },
    {
     "ename": "",
     "evalue": "",
     "output_type": "error",
     "traceback": [
      "\u001b[1;31mThe Kernel crashed while executing code in the current cell or a previous cell. \n",
      "\u001b[1;31mPlease review the code in the cell(s) to identify a possible cause of the failure. \n",
      "\u001b[1;31mClick <a href='https://aka.ms/vscodeJupyterKernelCrash'>here</a> for more info. \n",
      "\u001b[1;31mView Jupyter <a href='command:jupyter.viewOutput'>log</a> for further details."
     ]
    }
   ],
   "source": [
    "# Run the desired test function to display plots\n",
    "# You can comment/uncomment the function you want to run\n",
    "testFastMarching()  # Uncomment to run Fast Marching test\n",
    "# testLevelSet()    # Uncomment to run Level Set test"
   ]
  }
 ],
 "metadata": {
  "kernelspec": {
   "display_name": "segmentation_noble",
   "language": "python",
   "name": "python3"
  },
  "language_info": {
   "codemirror_mode": {
    "name": "ipython",
    "version": 3
   },
   "file_extension": ".py",
   "mimetype": "text/x-python",
   "name": "python",
   "nbconvert_exporter": "python",
   "pygments_lexer": "ipython3",
   "version": "3.10.12"
  }
 },
 "nbformat": 4,
 "nbformat_minor": 2
}
